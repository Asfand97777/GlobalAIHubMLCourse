{
  "nbformat": 4,
  "nbformat_minor": 0,
  "metadata": {
    "colab": {
      "name": "Untitled4.ipynb",
      "provenance": []
    },
    "kernelspec": {
      "name": "python3",
      "display_name": "Python 3"
    }
  },
  "cells": [
    {
      "cell_type": "code",
      "metadata": {
        "id": "FFfY2oJCNt00"
      },
      "source": [
        "from sklearn.datasets import make_blobs\r\n",
        "X, y = make_blobs(n_samples=2000, centers=3, n_features=3,random_state=0)"
      ],
      "execution_count": 1,
      "outputs": []
    },
    {
      "cell_type": "code",
      "metadata": {
        "colab": {
          "base_uri": "https://localhost:8080/"
        },
        "id": "Y2lzHWXsN2ZZ",
        "outputId": "c1b09ee1-726e-4784-d2b4-8fcfc8c401b6"
      },
      "source": [
        "print(X.shape)"
      ],
      "execution_count": 2,
      "outputs": [
        {
          "output_type": "stream",
          "text": [
            "(2000, 3)\n"
          ],
          "name": "stdout"
        }
      ]
    },
    {
      "cell_type": "code",
      "metadata": {
        "colab": {
          "base_uri": "https://localhost:8080/"
        },
        "id": "gTCa_1wgN35z",
        "outputId": "f7cf6e17-9867-4db5-a39e-257b9cc8efb5"
      },
      "source": [
        "print(y)"
      ],
      "execution_count": 3,
      "outputs": [
        {
          "output_type": "stream",
          "text": [
            "[1 2 1 ... 1 2 1]\n"
          ],
          "name": "stdout"
        }
      ]
    },
    {
      "cell_type": "code",
      "metadata": {
        "id": "T-Q9vxpJN_qb"
      },
      "source": [
        "from sklearn.model_selection import train_test_split"
      ],
      "execution_count": 5,
      "outputs": []
    },
    {
      "cell_type": "code",
      "metadata": {
        "id": "61Tj4EOXOHuT"
      },
      "source": [
        "X_train, X_test, y_train, y_test = train_test_split(X, y, test_size=0.3, random_state=123)"
      ],
      "execution_count": 6,
      "outputs": []
    },
    {
      "cell_type": "code",
      "metadata": {
        "id": "2hIkYI-jONGL"
      },
      "source": [
        "from sklearn.metrics import accuracy_score"
      ],
      "execution_count": 7,
      "outputs": []
    },
    {
      "cell_type": "code",
      "metadata": {
        "colab": {
          "base_uri": "https://localhost:8080/"
        },
        "id": "IgymyrymOUX0",
        "outputId": "e99a07b0-cf4e-4420-95e9-2a01b21560d8"
      },
      "source": [
        "from sklearn.tree import DecisionTreeClassifier\r\n",
        "\r\n",
        "clf = DecisionTreeClassifier( random_state=42)\r\n",
        "clf.fit(X_train,y_train)\r\n",
        "print(\"Accuracy of train:\",clf.score(X_train,y_train))\r\n",
        "print(\"Accuracy of test:\",clf.score(X_test,y_test))"
      ],
      "execution_count": 8,
      "outputs": [
        {
          "output_type": "stream",
          "text": [
            "Accuracy of train: 1.0\n",
            "Accuracy of test: 0.9983333333333333\n"
          ],
          "name": "stdout"
        }
      ]
    },
    {
      "cell_type": "code",
      "metadata": {
        "colab": {
          "base_uri": "https://localhost:8080/"
        },
        "id": "D3tQ_wpXOWTf",
        "outputId": "612500a5-1fbd-4b46-ae02-f33e999e1952"
      },
      "source": [
        "clf = DecisionTreeClassifier(max_depth=1 , random_state=42)\r\n",
        "clf.fit(X_train,y_train)\r\n",
        "print(\"Accuracy of train:\",clf.score(X_train,y_train))\r\n",
        "print(\"Accuracy of test:\",clf.score(X_test,y_test))"
      ],
      "execution_count": 9,
      "outputs": [
        {
          "output_type": "stream",
          "text": [
            "Accuracy of train: 0.6685714285714286\n",
            "Accuracy of test: 0.66\n"
          ],
          "name": "stdout"
        }
      ]
    },
    {
      "cell_type": "code",
      "metadata": {
        "colab": {
          "base_uri": "https://localhost:8080/"
        },
        "id": "IpavcwPQOimM",
        "outputId": "af3a2892-ce71-4fd3-de12-7f78ad9cd100"
      },
      "source": [
        "from sklearn.tree import DecisionTreeClassifier\r\n",
        "\r\n",
        "clf = DecisionTreeClassifier(max_depth=2 , random_state=42)\r\n",
        "clf.fit(X_train,y_train)\r\n",
        "print(\"Accuracy of train:\",clf.score(X_train,y_train))\r\n",
        "print(\"Accuracy of test:\",clf.score(X_test,y_test))"
      ],
      "execution_count": 10,
      "outputs": [
        {
          "output_type": "stream",
          "text": [
            "Accuracy of train: 0.9992857142857143\n",
            "Accuracy of test: 0.9983333333333333\n"
          ],
          "name": "stdout"
        }
      ]
    },
    {
      "cell_type": "code",
      "metadata": {
        "id": "r7Eaw1AEOksS"
      },
      "source": [
        "import xgboost as xgb"
      ],
      "execution_count": 11,
      "outputs": []
    },
    {
      "cell_type": "code",
      "metadata": {
        "id": "8N0wVx7gOt4q"
      },
      "source": [
        "dmatrix_train = xgb.DMatrix(data=X_train, label=y_train)\r\n",
        "dmatrix_test = xgb.DMatrix(data=X_test, label=y_test)"
      ],
      "execution_count": 12,
      "outputs": []
    },
    {
      "cell_type": "code",
      "metadata": {
        "id": "bIcNsIFaO50B"
      },
      "source": [
        "param = {'max_depth':3, \r\n",
        "         'eta':1, \r\n",
        "         'objective':'multi:softprob', \r\n",
        "         'num_class':3}\r\n",
        "\r\n",
        "num_round = 5\r\n",
        "model = xgb.train(param, dmatrix_train, num_round)"
      ],
      "execution_count": 13,
      "outputs": []
    },
    {
      "cell_type": "code",
      "metadata": {
        "colab": {
          "base_uri": "https://localhost:8080/"
        },
        "id": "hcnmvUuhO_IU",
        "outputId": "2a4e03a7-2e65-4fb9-b22c-854b70d9fde3"
      },
      "source": [
        "preds = model.predict(dmatrix_test)\r\n",
        "preds[:10]"
      ],
      "execution_count": 14,
      "outputs": [
        {
          "output_type": "execute_result",
          "data": {
            "text/plain": [
              "array([[0.9963404 , 0.00182813, 0.00183146],\n",
              "       [0.9963404 , 0.00182813, 0.00183146],\n",
              "       [0.00199098, 0.9961791 , 0.00182992],\n",
              "       [0.00199098, 0.9961791 , 0.00182992],\n",
              "       [0.00199869, 0.00184728, 0.996154  ],\n",
              "       [0.9963404 , 0.00182813, 0.00183146],\n",
              "       [0.00199098, 0.9961791 , 0.00182992],\n",
              "       [0.00199869, 0.00184728, 0.996154  ],\n",
              "       [0.9963404 , 0.00182813, 0.00183146],\n",
              "       [0.9963404 , 0.00182813, 0.00183146]], dtype=float32)"
            ]
          },
          "metadata": {
            "tags": []
          },
          "execution_count": 14
        }
      ]
    },
    {
      "cell_type": "code",
      "metadata": {
        "id": "AzKcknOcPDcD"
      },
      "source": [
        "import pandas as pd\r\n",
        "import seaborn as sns\r\n",
        "import numpy as np\r\n",
        "import matplotlib.pyplot as plt"
      ],
      "execution_count": 15,
      "outputs": []
    },
    {
      "cell_type": "code",
      "metadata": {
        "id": "SVEIVaOKPL_W"
      },
      "source": [
        "\r\n",
        "best_preds = np.asarray([np.argmax(line) for line in preds])"
      ],
      "execution_count": 16,
      "outputs": []
    },
    {
      "cell_type": "code",
      "metadata": {
        "colab": {
          "base_uri": "https://localhost:8080/"
        },
        "id": "9lMIgteoPTg3",
        "outputId": "d5d197ae-dd29-4c33-9fba-95149a956630"
      },
      "source": [
        "best_preds"
      ],
      "execution_count": 17,
      "outputs": [
        {
          "output_type": "execute_result",
          "data": {
            "text/plain": [
              "array([0, 0, 1, 1, 2, 0, 1, 2, 0, 0, 0, 1, 2, 1, 1, 1, 0, 0, 1, 2, 0, 2,\n",
              "       0, 0, 0, 1, 0, 0, 2, 0, 2, 1, 2, 0, 0, 1, 2, 1, 2, 1, 0, 0, 1, 0,\n",
              "       2, 2, 1, 2, 0, 0, 2, 2, 2, 0, 2, 1, 1, 1, 0, 2, 2, 0, 1, 1, 1, 2,\n",
              "       2, 1, 0, 2, 2, 0, 1, 1, 0, 2, 1, 2, 1, 2, 2, 1, 1, 1, 2, 0, 2, 1,\n",
              "       1, 1, 1, 0, 2, 2, 2, 1, 2, 2, 0, 2, 0, 1, 0, 1, 2, 1, 2, 0, 2, 1,\n",
              "       1, 1, 0, 1, 0, 1, 1, 2, 0, 2, 1, 2, 0, 1, 0, 0, 0, 2, 0, 0, 1, 2,\n",
              "       0, 1, 2, 2, 0, 0, 1, 2, 2, 1, 2, 2, 1, 2, 1, 0, 2, 0, 0, 0, 0, 2,\n",
              "       2, 1, 0, 0, 1, 1, 2, 0, 1, 2, 2, 0, 2, 2, 0, 0, 1, 1, 0, 0, 2, 2,\n",
              "       2, 1, 2, 2, 0, 2, 0, 1, 0, 2, 2, 1, 1, 0, 1, 0, 1, 1, 2, 1, 0, 0,\n",
              "       1, 1, 1, 2, 1, 0, 2, 2, 0, 2, 0, 2, 2, 2, 2, 2, 0, 0, 1, 1, 0, 0,\n",
              "       0, 1, 1, 2, 2, 1, 2, 1, 2, 1, 0, 2, 1, 1, 1, 0, 2, 2, 0, 1, 2, 2,\n",
              "       0, 1, 0, 0, 2, 1, 0, 1, 2, 1, 2, 2, 2, 1, 0, 0, 0, 1, 1, 2, 2, 1,\n",
              "       0, 0, 1, 0, 0, 0, 0, 1, 2, 2, 0, 1, 0, 2, 2, 0, 2, 1, 2, 0, 1, 1,\n",
              "       2, 0, 2, 2, 2, 2, 0, 1, 1, 1, 0, 1, 2, 0, 0, 2, 1, 1, 1, 1, 1, 2,\n",
              "       1, 0, 2, 0, 0, 1, 2, 2, 2, 1, 0, 2, 0, 0, 2, 1, 2, 1, 2, 1, 1, 0,\n",
              "       1, 2, 1, 2, 1, 1, 1, 1, 0, 1, 0, 0, 0, 0, 1, 0, 2, 2, 1, 2, 0, 2,\n",
              "       2, 0, 1, 0, 0, 2, 1, 2, 1, 2, 0, 1, 1, 1, 2, 2, 2, 1, 2, 2, 0, 1,\n",
              "       2, 1, 1, 2, 1, 1, 2, 1, 0, 2, 1, 0, 2, 2, 1, 1, 2, 0, 2, 0, 0, 1,\n",
              "       2, 0, 1, 1, 1, 0, 0, 2, 1, 2, 0, 2, 2, 2, 1, 0, 2, 1, 2, 2, 1, 1,\n",
              "       0, 0, 1, 2, 0, 1, 1, 1, 0, 0, 1, 1, 1, 2, 2, 0, 0, 0, 1, 2, 1, 0,\n",
              "       2, 0, 2, 1, 0, 1, 0, 0, 2, 1, 2, 1, 0, 2, 1, 2, 1, 1, 1, 2, 1, 0,\n",
              "       0, 0, 0, 0, 2, 0, 1, 1, 2, 0, 2, 2, 2, 0, 0, 2, 0, 0, 0, 2, 1, 2,\n",
              "       1, 2, 2, 1, 2, 1, 0, 0, 0, 0, 2, 1, 2, 2, 0, 2, 2, 1, 0, 0, 2, 1,\n",
              "       2, 1, 0, 2, 0, 2, 0, 1, 2, 2, 0, 0, 0, 1, 2, 0, 0, 2, 0, 1, 0, 2,\n",
              "       1, 0, 2, 1, 2, 0, 0, 2, 1, 2, 0, 1, 1, 1, 2, 1, 1, 2, 0, 0, 0, 1,\n",
              "       2, 0, 2, 1, 1, 2, 0, 0, 1, 1, 2, 0, 1, 0, 0, 2, 0, 2, 2, 1, 1, 2,\n",
              "       0, 0, 1, 1, 2, 0, 1, 2, 1, 0, 2, 0, 1, 1, 1, 1, 1, 1, 0, 2, 2, 0,\n",
              "       1, 0, 2, 2, 0, 0])"
            ]
          },
          "metadata": {
            "tags": []
          },
          "execution_count": 17
        }
      ]
    },
    {
      "cell_type": "code",
      "metadata": {
        "colab": {
          "base_uri": "https://localhost:8080/"
        },
        "id": "wSYyHTPrPUBt",
        "outputId": "27838b87-fc60-483f-ab0c-6695698c200d"
      },
      "source": [
        "print(\"Accuracy = {}\".format(accuracy_score(y_test, best_preds)))"
      ],
      "execution_count": 20,
      "outputs": [
        {
          "output_type": "stream",
          "text": [
            "Accuracy = 0.9983333333333333\n"
          ],
          "name": "stdout"
        }
      ]
    },
    {
      "cell_type": "code",
      "metadata": {
        "colab": {
          "base_uri": "https://localhost:8080/"
        },
        "id": "DC0i6eRAPm5k",
        "outputId": "1243ba4a-f8e7-49a9-f92e-e68d1f94f1be"
      },
      "source": [
        "from xgboost.sklearn import XGBClassifier\r\n",
        "from sklearn.model_selection import GridSearchCV, RandomizedSearchCV  \r\n",
        "\r\n",
        "param_dict = {\r\n",
        "    'max_depth':range(3,10,2),\r\n",
        "    'min_child_weight':range(1,6,2),\r\n",
        "    'learning_rate': [0.001,0.01,0.1,1],\r\n",
        "    'n_estimators': [200,500,1000]\r\n",
        "    \r\n",
        "}\r\n",
        "\r\n",
        "xgc = XGBClassifier(booster='gbtree', learning_rate =0.01, n_estimators=200, max_depth=5,\r\n",
        " min_child_weight=1, gamma=0, subsample=0.8, colsample_bytree=0.8,\r\n",
        " objective= 'multi:softprob', nthread=4, scale_pos_weight=1, seed=27)\r\n",
        "\r\n",
        "clf = GridSearchCV(xgc,param_dict,cv=2,n_jobs = -1).fit(X_train,y_train)\r\n",
        "\r\n",
        "print(\"Tuned: {}\".format(clf.best_params_)) \r\n",
        "print(\"Mean of the cv scores is {:.6f}\".format(clf.best_score_))\r\n",
        "print(\"Train Score {:.6f}\".format(clf.score(X_train,y_train)))\r\n",
        "print(\"Test Score {:.6f}\".format(clf.score(X_test,y_test)))\r\n",
        "print(\"Seconds used for refitting the best model on the train dataset: {:.6f}\".format(clf.refit_time_))"
      ],
      "execution_count": 21,
      "outputs": [
        {
          "output_type": "stream",
          "text": [
            "Tuned: {'learning_rate': 0.001, 'max_depth': 3, 'min_child_weight': 1, 'n_estimators': 500}\n",
            "Mean of the cv scores is 0.998571\n",
            "Train Score 0.999286\n",
            "Test Score 0.998333\n",
            "Seconds used for refitting the best model on the train dataset: 1.055834\n"
          ],
          "name": "stdout"
        }
      ]
    }
  ]
}